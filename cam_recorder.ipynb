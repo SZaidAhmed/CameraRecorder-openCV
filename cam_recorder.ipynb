{
 "cells": [
  {
   "cell_type": "code",
   "execution_count": 1,
   "metadata": {},
   "outputs": [],
   "source": [
    "import cv2"
   ]
  },
  {
   "cell_type": "markdown",
   "metadata": {},
   "source": [
    "# Read , display and save video by using laptop camera"
   ]
  },
  {
   "cell_type": "code",
   "execution_count": 3,
   "metadata": {},
   "outputs": [],
   "source": [
    "#the VideoCapture() method is used to display the video\n",
    "#cap = cv2.VideoCapture('video_file_name.extension or Device index of your camera')\n",
    "# by default the index is 0 or -1\n",
    "# the portable cameras or other camera's index will be 1 for the first camera and 2 for the second camera \n",
    "#if we want to use any video file then we will have to give file name instead of index.\n",
    "cap = cv2.VideoCapture(0)\n",
    "#the VideoWriter() method is used to save the video\n",
    "#the first argument is a file name and a second argument is a fourcc code\n",
    "#the fourcc code is a four bite code used to specify the video codec\n",
    "#http://www.fourcc.org/codecs.php\n",
    "#the third argument is a number of frames per second\n",
    "#the fourth argument is the size in tuple\n",
    "fourcc = cv2.VideoWriter_fourcc(*'XVID')\n",
    "out = cv2.VideoWriter('hello.avi' , fourcc , 20.0 , (640,480))\n",
    "#using while loop in order to capture frames continously\n",
    "#to check either the given file path or index is true or not then we will use method called isopened.\n",
    "#while(cap.isOpened())\n",
    "while(True):\n",
    "    #read method will return true if the frame is avialable and the frame will be save in a variable called frame1.\n",
    "    #the true or false given by the method called read will be save in variable called ret.\n",
    "    ret , frame1 = cap.read()\n",
    "    #the method called \"get\" is used to measure frame height and width\n",
    "    #the argument is said prop_IDE by which we can measure diffrent things\n",
    "    #the link for prop_IDE is below\n",
    "    #https://docs.opencv.org/4.0.0/d4/d15/group__videoio__flags__base.html#gaeb8dd9c89c10a5c63c139bf7c4f5704d\n",
    "    cap.get(cv2.CAP_PROP_FRAME_HEIGHT)\n",
    "    cap.get(cv2.CAP_PROP_FRAME_HEIGHT)\n",
    "    #out.write method is used to save the captured frame\n",
    "    out.write(frame1)\n",
    "    #in order to show frames using \"imshow\" method\n",
    "    #the first argument is the window name or frame name and the second argument is the frame we are reading\n",
    "    cv2.imshow(\"frame\" , frame1)\n",
    "    #using method called wait key in order to get user input.\n",
    "    #0xff is a mask used for a 64 bit operating system.\n",
    "    #the condition is if a user gives an input which is q then the recording will be end.\n",
    "    if cv2.waitKey(1) & 0xFF == ord('q'):\n",
    "        break\n",
    "    \n",
    "    \n",
    "#after using resources you need to release them\n",
    "cap.release()\n",
    "out.release()\n",
    "#to destroy all windows\n",
    "cv2.destroyAllWindows()"
   ]
  },
  {
   "cell_type": "code",
   "execution_count": null,
   "metadata": {},
   "outputs": [],
   "source": []
  }
 ],
 "metadata": {
  "kernelspec": {
   "display_name": "Python 3",
   "language": "python",
   "name": "python3"
  },
  "language_info": {
   "codemirror_mode": {
    "name": "ipython",
    "version": 3
   },
   "file_extension": ".py",
   "mimetype": "text/x-python",
   "name": "python",
   "nbconvert_exporter": "python",
   "pygments_lexer": "ipython3",
   "version": "3.6.5"
  }
 },
 "nbformat": 4,
 "nbformat_minor": 2
}
